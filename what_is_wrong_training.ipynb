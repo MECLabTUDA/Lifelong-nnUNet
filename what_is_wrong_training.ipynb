{
 "cells": [
  {
   "cell_type": "markdown",
   "metadata": {},
   "source": [
    "# What is wrong with Continual Learning in Medical Image Segmentation - Training & Evaluation\n",
    "In this section we want to cover the training and evaluation that is needed to reproduce the results stated in our paper.\n",
    "## Sequential\n",
    "In this section we quickly want to mention the training of the sequential models. For more information, we refer to the documentation in the [Github Repo (Sequential)](https://github.com/MECLabTUDA/Lifelong-nnUNet/blob/main/documentation/sequential_training.md). The trainings for cardiac can be started using the following commands:"
   ]
  },
  {
   "cell_type": "code",
   "execution_count": null,
   "metadata": {},
   "outputs": [],
   "source": [
    "!nnUNet_train_sequential 3d_fullres -t 8 9 -f 0 -num_epoch 250 -d 0 -save_interval 25 -s seg_outputs --store_csv\n",
    "!nnUNet_train_sequential 3d_fullres -t 31 -f 0 -num_epoch 250 -d 0 -save_interval 25 -s seg_outputs --store_csv"
   ]
  },
  {
   "cell_type": "markdown",
   "metadata": {},
   "source": [
    "## Autoencoders\n",
    "The Autoencoders can be started using the following commands. The commands train models in the following order: \n",
    "* AlexNet $\\it{z}$-CNN, \n",
    "* MONAI, \n",
    "* CNN, \n",
    "* nnU-Net $\\it{z}$-CNN.\n",
    "\n",
    "For the last model you need to specify the location of the model you want to use for feature extraction."
   ]
  },
  {
   "cell_type": "code",
   "execution_count": null,
   "metadata": {},
   "outputs": [],
   "source": [
    "!nnUNet_train_expert_gate_simple_ae_alex_features 3d_fullres -t 8 -f 0 -num_epoch 250 -d 0 -save_interval 25 -s seg_outputs --store_csv\n",
    "!nnUNet_train_expert_gate_simple_ae_alex_features 3d_fullres -t 9 -f 0 -num_epoch 250 -d 0 -save_interval 25 -s seg_outputs --store_csv\n",
    "\n",
    "!nnUNet_train_expert_gate_monai 3d_fullres -t 8 -f 0 -num_epoch 250 -d 0 -save_interval 25 -s seg_outputs --store_csv\n",
    "!nnUNet_train_expert_gate_monai 3d_fullres -t 9 -f 0 -num_epoch 250 -d 0 -save_interval 25 -s seg_outputs --store_csv\n",
    "\n",
    "!nnUNet_train_expert_gate_simple_ae 3d_fullres -t 8 -f 0 -num_epoch 250 -d 0 -save_interval 25 -s seg_outputs --store_csv\n",
    "!nnUNet_train_expert_gate_simple_ae 3d_fullres -t 9 -f 0 -num_epoch 250 -d 0 -save_interval 25 -s seg_outputs --store_csv\n",
    "\n",
    "!nnUNet_train_expert_gate_simple_ae_UNet_features 3d_fullres -t 8 -f 0 -num_epoch 250 -d 0 -save_interval 25 -s seg_outputs --store_csv -e .../results/nnUNet_ext/3d_fullres/Task008_mHeartA_Task009_mHeartB/Task008_mHeartA/nnUNetTrainerSequential__nnUNetPlansv2.1/Generic_UNet/SEQ/fold_0 \n",
    "!nnUNet_train_expert_gate_simple_ae_UNet_features 3d_fullres -t 9 -f 0 -num_epoch 250 -d 0 -save_interval 25 -s seg_outputs --store_csv -e .../results/nnUNet_ext/3d_fullres/Task008_mHeartA_Task009_mHeartB/Task008_mHeartA_Task009_mHeartB/nnUNetTrainerSequential__nnUNetPlansv2.1/Generic_UNet/SEQ/fold_0"
   ]
  },
  {
   "cell_type": "markdown",
   "metadata": {},
   "source": [
    "## UNEG (ours)"
   ]
  },
  {
   "cell_type": "code",
   "execution_count": null,
   "metadata": {},
   "outputs": [],
   "source": [
    "!nnUNet_train_expert_gate_UNet 3d_fullres -t 8 -f 0 -num_epoch 250 -d 0 -save_interval 25 -s seg_outputs --store_csv\n",
    "!nnUNet_train_expert_gate_UNet 3d_fullres -t 9 -f 0 -num_epoch 250 -d 0 -save_interval 25 -s seg_outputs --store_csv"
   ]
  },
  {
   "cell_type": "markdown",
   "metadata": {},
   "source": [
    "## Baselines\n",
    "Again we will just mention the commands for training the baselines methods, but for further information, we refer to the documentations in the [Github Repo](https://github.com/MECLabTUDA/Lifelong-nnUNet)."
   ]
  },
  {
   "cell_type": "code",
   "execution_count": null,
   "metadata": {},
   "outputs": [],
   "source": [
    "!nnUNet_train_ewc 3d_fullres -t 8 9 -f 0 -num_epoch 250 -d 0 -save_interval 25 -s seg_outputs --store_csv\n",
    "!nnUNet_train_lwf 3d_fullres -t 8 9 -f 0 -num_epoch 250 -d 0 -save_interval 25 -s seg_outputs --store_csv\n",
    "!nnUNet_train_mib 3d_fullres -t 8 9 -f 0 -num_epoch 250 -d 0 -save_interval 25 -s seg_outputs --store_csv"
   ]
  },
  {
   "cell_type": "markdown",
   "metadata": {},
   "source": [
    "# Evaluation"
   ]
  },
  {
   "cell_type": "markdown",
   "metadata": {},
   "source": [
    "## using Autoencoders \n",
    "Run the autoencoder evaluation using the following commands:"
   ]
  },
  {
   "cell_type": "code",
   "execution_count": null,
   "metadata": {},
   "outputs": [],
   "source": [
    "!nnUNet_evaluate_expert_gate 3d_fullres nnUNetTrainerSequential -trained_on 8 9 -f 0 -d 0 --store_csv -g nnUNetTrainerExpertGateSimpleAlex\n",
    "!nnUNet_evaluate_expert_gate 3d_fullres nnUNetTrainerSequential -trained_on 8 9 -f 0 -d 0 --store_csv -g nnUNetTrainerExpertGateMonai\n",
    "!nnUNet_evaluate_expert_gate 3d_fullres nnUNetTrainerSequential -trained_on 8 9 -f 0 -d 0 --store_csv -g nnUNetTrainerExpertGateSimple\n",
    "!nnUNet_evaluate_expert_gate 3d_fullres nnUNetTrainerSequential -trained_on 8 9 -f 0 -d 0 --store_csv -g nnUNetTrainerExpertGateSimpleUNet"
   ]
  },
  {
   "cell_type": "markdown",
   "metadata": {},
   "source": [
    "## using UNEG (ours)"
   ]
  },
  {
   "cell_type": "code",
   "execution_count": null,
   "metadata": {},
   "outputs": [],
   "source": [
    "!nnUNet_evaluate_expert_gate 3d_fullres nnUNetTrainerSequential -trained_on 8 9 -f 0 -d 0 --store_csv -g nnUNetTrainerExpertGateUNet"
   ]
  },
  {
   "cell_type": "markdown",
   "metadata": {},
   "source": [
    "## of baselines"
   ]
  },
  {
   "cell_type": "code",
   "execution_count": null,
   "metadata": {},
   "outputs": [],
   "source": [
    "!nnUNet_evaluate 3d_fullres nnUNetTrainerSequential -trained_on 8 9 -f 0 -use_model 8 9 -evaluate_on 8 9 -d 0 --store_csv\n",
    "!nnUNet_evaluate 3d_fullres nnUNetTrainerEWC -trained_on 8 9 -f 0 -use_model 8 9 -evaluate_on 8 9 -d 0 --store_csv\n",
    "!nnUNet_evaluate 3d_fullres nnUNetTrainerLWF -trained_on 8 9 -f 0 -use_model 8 9 -evaluate_on 8 9 -d 0 --store_csv\n",
    "!nnUNet_evaluate 3d_fullres nnUNetTrainerMiB -trained_on 8 9 -f 0 -use_model 8 9 -evaluate_on 8 9 -d 0 --store_csv\n",
    "\n",
    "!nnUNet_evaluate 3d_fullres nnUNetTrainerSequential -trained_on 31 -f 0 -use_model 31 -evaluate_on 31 -d 0 --store_csv"
   ]
  }
 ],
 "metadata": {
  "kernelspec": {
   "display_name": "Python 3",
   "language": "python",
   "name": "python3"
  },
  "language_info": {
   "codemirror_mode": {
    "name": "ipython",
    "version": 3
   },
   "file_extension": ".py",
   "mimetype": "text/x-python",
   "name": "python",
   "nbconvert_exporter": "python",
   "pygments_lexer": "ipython3",
   "version": "3.8.3"
  }
 },
 "nbformat": 4,
 "nbformat_minor": 4
}
