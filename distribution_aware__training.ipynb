{
 "cells": [
  {
   "cell_type": "markdown",
   "metadata": {},
   "source": [
    "# Distribution-Aware Replay for Continual MRI Segmentation - Training\n",
    "In this section we want to cover the training and evaluation that is needed to reproduce the results stated in our paper.\n",
    "This section assumes that you have preprocessed the hippocampus and prostate datasets. Furthermore, make sure you have set the nnUNet related paths according to [this file](documentation/setting_up_paths.md)."
   ]
  },
  {
   "cell_type": "markdown",
   "metadata": {},
   "source": [
    "## Training of continual learning baselines\n",
    "\n",
    "In this first section we train the continual learning baseline models on the hippocampus and prostate data. In all the following commands, do not forget to set X to the GPU(s) that you want to use during training."
   ]
  },
  {
   "cell_type": "code",
   "execution_count": null,
   "metadata": {},
   "outputs": [],
   "source": [
    "!nnUNet_train_sequential 2d -t 197 198 199 -f 0 -num_epoch 250 -save_interval 25 -s seg_outputs --store_csv --deterministic -d X\n",
    "!nnUNet_train_ewc 2d -t 197 198 199 -f 0 -num_epoch 250 -save_interval 25 -s seg_outputs --store_csv --deterministic -d X\n",
    "!nnUNet_train_mib 2d -t 197 198 199 -f 0 -num_epoch 250 -save_interval 25 -s seg_outputs --store_csv --deterministic -d X\n",
    "\n",
    "!nnUNet_train_sequential 2d -t 111 112 113 115 116 -f 0 -num_epoch 250 -save_interval 25 -s seg_outputs --store_csv --deterministic -d X\n",
    "!nnUNet_train_ewc 2d -t 111 112 113 115 116 -f 0 -num_epoch 250 -save_interval 25 -s seg_outputs --store_csv --deterministic -d X\n",
    "!nnUNet_train_mib 2d -t 111 112 113 115 116 -f 0 -num_epoch 250 -save_interval 25 -s seg_outputs --store_csv --deterministic -d X"
   ]
  },
  {
   "cell_type": "markdown",
   "metadata": {},
   "source": [
    "## Training of OoD detection baseline\n",
    "\n",
    "This section trains the OoD detection baseline Segmentation Distortion. If you want to use this model on data different to those we used, please make sure to set the `-layer_name` parameter according to the last layer in the encoder."
   ]
  },
  {
   "cell_type": "code",
   "execution_count": null,
   "metadata": {},
   "outputs": [],
   "source": [
    "!nnUNet_train_seg_dist 2d -t 197 198 199 -f 0 -num_epoch 250 -save_interval 25 -s seg_outputs --store_csv -layer_name conv_blocks_context.3 -num_samples_in_perc 1.0 --deterministic -d X\n",
    "!nnUNet_train_seg_dist 2d -t 111 112 113 115 116  -f 0 -num_epoch 250 -save_interval 25 -s seg_outputs --store_csv -layer_name conv_blocks_context.6 -num_samples_in_perc 1.0 -d X"
   ]
  },
  {
   "cell_type": "markdown",
   "metadata": {},
   "source": [
    "## Training of our cVAE and ccVAE\n",
    "In this section we the models proposed by us."
   ]
  },
  {
   "cell_type": "code",
   "execution_count": null,
   "metadata": {},
   "outputs": [],
   "source": [
    "!nnUNet_train_vae_rehearsal_no_skips_large 2d -t 197 198 199 -f 0 -num_epoch 250 -save_interval 25 -s seg_outputs --store_csv -layer_name conv_blocks_context.3 -num_samples_in_perc 1.0 --deterministic -d X\n",
    "!nnUNet_train_vae_rehearsal_no_skips_large 2d -t 111 112 113 115 116 -f 0 -num_epoch 250 -save_interval 25 -s seg_outputs --store_csv -layer_name conv_blocks_context.6 -num_samples_in_perc 1.0 --deterministic -d X X\n",
    "\n",
    "!nnUNet_train_vae_rehearsal_no_skips_condition_on_both 2d -t 197 198 199 -f 0 -num_epoch 250 -save_interval 25 -s seg_outputs --store_csv -layer_name conv_blocks_context.3 -num_samples_in_perc 1.0 --deterministic -d X\n",
    "!nnUNet_train_vae_rehearsal_no_skips_condition_on_both 2d -t 111 112 113 115 116 -f 0 -num_epoch 250 -save_interval 25 -s seg_outputs --store_csv -layer_name conv_blocks_context.6 -num_samples_in_perc 1.0 --deterministic -d X X"
   ]
  },
  {
   "cell_type": "markdown",
   "metadata": {},
   "source": [
    "If one of your training crashes you may try to resume our training with [continue_training.py](continue_training.py). However, keep in mind, that by resuming the training using this external script, the run will not be deterministic anymore."
   ]
  }
 ],
 "metadata": {
  "kernelspec": {
   "display_name": "CLenv3",
   "language": "python",
   "name": "python3"
  },
  "language_info": {
   "name": "python",
   "version": "3.9.18"
  }
 },
 "nbformat": 4,
 "nbformat_minor": 2
}
