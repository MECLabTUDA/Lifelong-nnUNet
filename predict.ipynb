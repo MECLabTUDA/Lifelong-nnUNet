{
 "cells": [
  {
   "cell_type": "code",
   "execution_count": 1,
   "metadata": {},
   "outputs": [
    {
     "name": "stdout",
     "output_type": "stream",
     "text": [
      "\n",
      "\n",
      "Please cite the following paper when using nnUNet:\n",
      "\n",
      "Isensee, F., Jaeger, P.F., Kohl, S.A.A. et al. \"nnU-Net: a self-configuring method for deep learning-based biomedical image segmentation.\" Nat Methods (2020). https://doi.org/10.1038/s41592-020-01008-z\n",
      "\n",
      "\n",
      "If you have questions or suggestions, feel free to open an issue at https://github.com/MIC-DKFZ/nnUNet\n",
      "\n",
      "PARAM_SEARCH_FOLDER is not defined and nnU-Net extension cannot be used for a parameter search. If this is not intended behavior, please read documentation/setting_up_paths.md for information on how to set this up.\n",
      "\n"
     ]
    }
   ],
   "source": [
    "import sys\n",
    "from nnunet_ext.run.run_inference import run_inference"
   ]
  },
  {
   "cell_type": "code",
   "execution_count": 2,
   "metadata": {},
   "outputs": [
    {
     "name": "stdout",
     "output_type": "stream",
     "text": [
      "/gris/gris-f/guests/cgonzale/Code_Storage/Lifelong-nnUNet_storage/nnUNet_trained_models/nnUNet/3d_fullres/Task070_ProstJoined/nnUNetTrainerV2__nnUNetPlansv2.1/fold_0\n",
      "/gris/gris-f/guests/cgonzale/Code_Storage/Lifelong-nnUNet_storage/nnUNet_models_evaluation/nnUNet/3d_fullres/Task070_ProstJoined/nnUNetTrainerV2__nnUNetPlansv2.1\n"
     ]
    }
   ],
   "source": [
    "sys.argv = [sys.argv[0], '3d_fullres', 'nnUNetTrainerV2', '-trained_on', '70', '-f', '0', '-use_model', '70', '-evaluate_on', '76', '-d', '0']\n",
    "run_inference()"
   ]
  },
  {
   "cell_type": "code",
   "execution_count": null,
   "metadata": {},
   "outputs": [],
   "source": []
  }
 ],
 "metadata": {
  "interpreter": {
   "hash": "3c8fe7b02ee921726dd1433564954d3793a187a6a94ebb7a8c40873384d7c4f7"
  },
  "kernelspec": {
   "display_name": "Python 3.8.12 64-bit ('cl': conda)",
   "language": "python",
   "name": "python3"
  },
  "language_info": {
   "codemirror_mode": {
    "name": "ipython",
    "version": 3
   },
   "file_extension": ".py",
   "mimetype": "text/x-python",
   "name": "python",
   "nbconvert_exporter": "python",
   "pygments_lexer": "ipython3",
   "version": "3.8.12"
  },
  "orig_nbformat": 4
 },
 "nbformat": 4,
 "nbformat_minor": 2
}
