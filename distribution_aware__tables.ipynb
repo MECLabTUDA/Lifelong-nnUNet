{
 "cells": [
  {
   "cell_type": "markdown",
   "metadata": {},
   "source": [
    "# Distribution-Aware Replay for Continual MRI Segmentation - Tables\n",
    "In this section we will generate the tables shown in our paper."
   ]
  },
  {
   "cell_type": "markdown",
   "metadata": {},
   "source": [
    "## Table 1 - Dice, BWT, FWT on real data\n",
    "\n",
    "[table_generic.py](table_generic.py)\n",
    "\n",
    "## Table 2 - Dice, ECE on real and augmented data\n",
    "Table 2 is generated using the [table_2_and_3.py](table_2_and_3.py) script. Make sure to set the [`table`](table_2_and_3.py#86) parameter to `2` and set the [`anatomy`](table_2_and_3.py#87) parameter according to the table you want to generate."
   ]
  },
  {
   "cell_type": "code",
   "execution_count": null,
   "metadata": {},
   "outputs": [],
   "source": [
    "!python table_2_and_3.py"
   ]
  },
  {
   "cell_type": "markdown",
   "metadata": {},
   "source": [
    "## Table 3 - Dice, ECE in ablation study\n",
    "\n",
    "Table 3 from our paper is also generated using the [table_2_and_3.py](table_2_and_3.py) script. Now, set the [`table`](table_2_and_3.py#86) parameter to `3` and set the [`anatomy`](table_2_and_3.py#87) parameter. Executing the script will print the table to the command line output."
   ]
  },
  {
   "cell_type": "code",
   "execution_count": null,
   "metadata": {},
   "outputs": [],
   "source": [
    "!python table_2_and_3.py"
   ]
  }
 ],
 "metadata": {
  "kernelspec": {
   "display_name": "CLenv3",
   "language": "python",
   "name": "python3"
  },
  "language_info": {
   "codemirror_mode": {
    "name": "ipython",
    "version": 3
   },
   "file_extension": ".py",
   "mimetype": "text/x-python",
   "name": "python",
   "nbconvert_exporter": "python",
   "pygments_lexer": "ipython3",
   "version": "3.9.16"
  }
 },
 "nbformat": 4,
 "nbformat_minor": 2
}
