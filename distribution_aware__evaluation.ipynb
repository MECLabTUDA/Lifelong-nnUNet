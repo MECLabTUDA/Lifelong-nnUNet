{
 "cells": [
  {
   "cell_type": "markdown",
   "metadata": {},
   "source": [
    "# Distribution-Aware Replay for Continual MRI Segmentation - Evaluation\n",
    "In this section we want will evaluate the models using the segmentation output and the OoD detection methods."
   ]
  },
  {
   "cell_type": "markdown",
   "metadata": {},
   "source": [
    "## Evaluation of Segmentation Methods\n",
    "\n",
    "In this section we first define 2 functions that will allow us to perform evaluations for the checkpoints stored at 25 epoch increments of the UNet training."
   ]
  },
  {
   "cell_type": "code",
   "execution_count": null,
   "metadata": {},
   "outputs": [],
   "source": [
    "import os\n",
    "\n",
    "def eval_hippocampus(trainer: str, gpu: str):\n",
    "    base_eval_folder = os.environ[\"RESULTS_FOLDER\"]\n",
    "\n",
    "    \n",
    "    os.environ[\"EVALUATION_FOLDER\"] = f\"{base_eval_folder}/trained_final\"\n",
    "    os.makedirs(os.environ[\"EVALUATION_FOLDER\"], exist_ok=True)\n",
    "    os.system(f\"nnUNet_evaluate2 2d {trainer} -trained_on 197 198 199 -f 0 -use_model 197 -evaluate_on 197 198 199 -d {gpu} --store_csv -evaluate_initialization -legacy_structure\")\n",
    "    os.system(f\"nnUNet_evaluate2 2d {trainer} -trained_on 197 198 199 -f 0 -use_model 197 -evaluate_on 197 198 199 -d {gpu} --store_csv -legacy_structure\")\n",
    "    os.system(f\"nnUNet_evaluate2 2d {trainer} -trained_on 197 198 199 -f 0 -use_model 197 198 -evaluate_on 197 198 199 -d {gpu} --store_csv -legacy_structure\")\n",
    "    os.system(f\"nnUNet_evaluate2 2d {trainer} -trained_on 197 198 199 -f 0 -use_model 197 198 199 -evaluate_on 197 198 199 -d {gpu} --store_csv -legacy_structure\")\n",
    "\n",
    "\n",
    "    os.environ[\"EVALUATION_FOLDER\"] = f\"{base_eval_folder}/trained_49\"\n",
    "    os.makedirs(os.environ[\"EVALUATION_FOLDER\"], exist_ok=True)\n",
    "    os.system(f\"nnUNet_evaluate2 2d {trainer} -trained_on 197 198 199 -f 0 -use_model 197 -evaluate_on 197 198 199 -d {gpu} --store_csv -chk training_49 -legacy_structure\")\n",
    "    os.system(f\"nnUNet_evaluate2 2d {trainer} -trained_on 197 198 199 -f 0 -use_model 197 198 -evaluate_on 197 198 199 -d {gpu} --store_csv -chk training_49 -legacy_structure\")\n",
    "    os.system(f\"nnUNet_evaluate2 2d {trainer} -trained_on 197 198 199 -f 0 -use_model 197 198 199 -evaluate_on 197 198 199 -d {gpu} --store_csv -chk training_49 -legacy_structure\")\n",
    "\n",
    "\n",
    "    os.environ[\"EVALUATION_FOLDER\"] = f\"{base_eval_folder}/trained_99\"\n",
    "    os.makedirs(os.environ[\"EVALUATION_FOLDER\"], exist_ok=True)\n",
    "    os.system(f\"nnUNet_evaluate2 2d {trainer} -trained_on 197 198 199 -f 0 -use_model 197 -evaluate_on 197 198 199 -d {gpu} --store_csv -chk training_99 -legacy_structure\")\n",
    "    os.system(f\"nnUNet_evaluate2 2d {trainer} -trained_on 197 198 199 -f 0 -use_model 197 198 -evaluate_on 197 198 199 -d {gpu} --store_csv -chk training_99 -legacy_structure\")\n",
    "    os.system(f\"nnUNet_evaluate2 2d {trainer} -trained_on 197 198 199 -f 0 -use_model 197 198 199 -evaluate_on 197 198 199 -d {gpu} --store_csv -chk training_99 -legacy_structure\")\n",
    "\n",
    "\n",
    "    os.environ[\"EVALUATION_FOLDER\"] = f\"{base_eval_folder}/trained_149\"\n",
    "    os.makedirs(os.environ[\"EVALUATION_FOLDER\"], exist_ok=True)\n",
    "    os.system(f\"nnUNet_evaluate2 2d {trainer} -trained_on 197 198 199 -f 0 -use_model 197 -evaluate_on 197 198 199 -d {gpu} --store_csv -chk training_149 -legacy_structure\")\n",
    "    os.system(f\"nnUNet_evaluate2 2d {trainer} -trained_on 197 198 199 -f 0 -use_model 197 198 -evaluate_on 197 198 199 -d {gpu} --store_csv -chk training_149 -legacy_structure\")\n",
    "    os.system(f\"nnUNet_evaluate2 2d {trainer} -trained_on 197 198 199 -f 0 -use_model 197 198 199 -evaluate_on 197 198 199 -d {gpu} --store_csv -chk training_149 -legacy_structure\")\n",
    "\n",
    "    os.environ[\"EVALUATION_FOLDER\"] = f\"{base_eval_folder}/trained_199\"\n",
    "    os.makedirs(os.environ[\"EVALUATION_FOLDER\"], exist_ok=True)\n",
    "    os.system(f\"nnUNet_evaluate2 2d {trainer} -trained_on 197 198 199 -f 0 -use_model 197 -evaluate_on 197 198 199 -d {gpu} --store_csv -chk training_199 -legacy_structure\")\n",
    "    os.system(f\"nnUNet_evaluate2 2d {trainer} -trained_on 197 198 199 -f 0 -use_model 197 198 -evaluate_on 197 198 199 -d {gpu} --store_csv -chk training_199 -legacy_structure\")\n",
    "    os.system(f\"nnUNet_evaluate2 2d {trainer} -trained_on 197 198 199 -f 0 -use_model 197 198 199 -evaluate_on 197 198 199 -d {gpu} --store_csv -chk training_199 -legacy_structure\")\n",
    "\n",
    "    \n",
    "def eval_prostate(trainer: str, gpu: str):\n",
    "    base_eval_folder = os.environ[\"RESULTS_FOLDER\"]\n",
    "    res = \"2d\"\n",
    "    \n",
    "\n",
    "    os.environ[\"EVALUATION_FOLDER\"] = f\"{base_eval_folder}/trained_final\"\n",
    "    os.makedirs(os.environ[\"EVALUATION_FOLDER\"], exist_ok=True)\n",
    "    os.system(f\"nnUNet_evaluate2 {res} {trainer} -trained_on 111 112 113 115 116 -f 0 -use_model 111 -evaluate_on 111 112 113 115 116 -d {gpu} --store_csv -evaluate_initialization -legacy_structure\")\n",
    "    os.system(f\"nnUNet_evaluate2 {res} {trainer} -trained_on 111 112 113 115 116 -f 0 -use_model 111 -evaluate_on 111 112 113 115 116 -d {gpu} --store_csv -legacy_structure\")\n",
    "    os.system(f\"nnUNet_evaluate2 {res} {trainer} -trained_on 111 112 113 115 116 -f 0 -use_model 111 112 -evaluate_on 111 112 113 115 116 -d {gpu} --store_csv -legacy_structure\")\n",
    "    os.system(f\"nnUNet_evaluate2 {res} {trainer} -trained_on 111 112 113 115 116 -f 0 -use_model 111 112 113 -evaluate_on 111 112 113 115 116 -d {gpu} --store_csv -legacy_structure\")\n",
    "    os.system(f\"nnUNet_evaluate2 {res} {trainer} -trained_on 111 112 113 115 116 -f 0 -use_model 111 112 113 115 -evaluate_on 111 112 113 115 116 -d {gpu} --store_csv -legacy_structure\")\n",
    "    os.system(f\"nnUNet_evaluate2 {res} {trainer} -trained_on 111 112 113 115 116 -f 0 -use_model 111 112 113 115 116 -evaluate_on 111 112 113 115 116 -d {gpu} --store_csv -legacy_structure\")\n",
    "    \n",
    "\n",
    "    os.environ[\"EVALUATION_FOLDER\"] = f\"{base_eval_folder}/trained_49\"\n",
    "    os.makedirs(os.environ[\"EVALUATION_FOLDER\"], exist_ok=True)\n",
    "    os.system(f\"nnUNet_evaluate2 {res} {trainer} -trained_on 111 112 113 115 116 -f 0 -use_model 111 -evaluate_on 111 112 113 115 116 -d {gpu} --store_csv -chk training_49 -legacy_structure\")\n",
    "    os.system(f\"nnUNet_evaluate2 {res} {trainer} -trained_on 111 112 113 115 116 -f 0 -use_model 111 112 -evaluate_on 111 112 113 115 116 -d {gpu} --store_csv -chk training_49 -legacy_structure\")\n",
    "    os.system(f\"nnUNet_evaluate2 {res} {trainer} -trained_on 111 112 113 115 116 -f 0 -use_model 111 112 113 -evaluate_on 111 112 113 115 116 -d {gpu} --store_csv -chk training_49 -legacy_structure\")\n",
    "    os.system(f\"nnUNet_evaluate2 {res} {trainer} -trained_on 111 112 113 115 116 -f 0 -use_model 111 112 113 115 -evaluate_on 111 112 113 115 116 -d {gpu} --store_csv -chk training_49 -legacy_structure\")\n",
    "    os.system(f\"nnUNet_evaluate2 {res} {trainer} -trained_on 111 112 113 115 116 -f 0 -use_model 111 112 113 115 116 -evaluate_on 111 112 113 115 116 -d {gpu} --store_csv -chk training_49 -legacy_structure\")\n",
    "\n",
    "\n",
    "    os.environ[\"EVALUATION_FOLDER\"] = f\"{base_eval_folder}/trained_99\"\n",
    "    os.makedirs(os.environ[\"EVALUATION_FOLDER\"], exist_ok=True)\n",
    "    os.system(f\"nnUNet_evaluate2 {res} {trainer} -trained_on 111 112 113 115 116 -f 0 -use_model 111 -evaluate_on 111 112 113 115 116 -d {gpu} --store_csv -chk training_99 -legacy_structure\")\n",
    "    os.system(f\"nnUNet_evaluate2 {res} {trainer} -trained_on 111 112 113 115 116 -f 0 -use_model 111 112 -evaluate_on 111 112 113 115 116 -d {gpu} --store_csv -chk training_99 -legacy_structure\")\n",
    "    os.system(f\"nnUNet_evaluate2 {res} {trainer} -trained_on 111 112 113 115 116 -f 0 -use_model 111 112 113 -evaluate_on 111 112 113 115 116 -d {gpu} --store_csv -chk training_99 -legacy_structure\")\n",
    "    os.system(f\"nnUNet_evaluate2 {res} {trainer} -trained_on 111 112 113 115 116 -f 0 -use_model 111 112 113 115 -evaluate_on 111 112 113 115 116 -d {gpu} --store_csv -chk training_99 -legacy_structure\")\n",
    "    os.system(f\"nnUNet_evaluate2 {res} {trainer} -trained_on 111 112 113 115 116 -f 0 -use_model 111 112 113 115 116 -evaluate_on 111 112 113 115 116 -d {gpu} --store_csv -chk training_99 -legacy_structure\")\n",
    "\n",
    "\n",
    "    os.environ[\"EVALUATION_FOLDER\"] = f\"{base_eval_folder}/trained_149\"\n",
    "    os.makedirs(os.environ[\"EVALUATION_FOLDER\"], exist_ok=True)\n",
    "    os.system(f\"nnUNet_evaluate2 {res} {trainer} -trained_on 111 112 113 115 116 -f 0 -use_model 111 -evaluate_on 111 112 113 115 116 -d {gpu} --store_csv -chk training_149 -legacy_structure\")\n",
    "    os.system(f\"nnUNet_evaluate2 {res} {trainer} -trained_on 111 112 113 115 116 -f 0 -use_model 111 112 -evaluate_on 111 112 113 115 116 -d {gpu} --store_csv -chk training_149 -legacy_structure\")\n",
    "    os.system(f\"nnUNet_evaluate2 {res} {trainer} -trained_on 111 112 113 115 116 -f 0 -use_model 111 112 113 -evaluate_on 111 112 113 115 116 -d {gpu} --store_csv -chk training_149 -legacy_structure\")\n",
    "    os.system(f\"nnUNet_evaluate2 {res} {trainer} -trained_on 111 112 113 115 116 -f 0 -use_model 111 112 113 115 -evaluate_on 111 112 113 115 116 -d {gpu} --store_csv -chk training_149 -legacy_structure\")\n",
    "    os.system(f\"nnUNet_evaluate2 {res} {trainer} -trained_on 111 112 113 115 116 -f 0 -use_model 111 112 113 115 116 -evaluate_on 111 112 113 115 116 -d {gpu} --store_csv -chk training_149 -legacy_structure\")\n",
    "\n",
    "\n",
    "    os.environ[\"EVALUATION_FOLDER\"] = f\"{base_eval_folder}/trained_199\"\n",
    "    os.makedirs(os.environ[\"EVALUATION_FOLDER\"], exist_ok=True)\n",
    "    os.system(f\"nnUNet_evaluate2 {res} {trainer} -trained_on 111 112 113 115 116 -f 0 -use_model 111 -evaluate_on 111 112 113 115 116 -d {gpu} --store_csv -chk training_199 -legacy_structure\")\n",
    "    os.system(f\"nnUNet_evaluate2 {res} {trainer} -trained_on 111 112 113 115 116 -f 0 -use_model 111 112 -evaluate_on 111 112 113 115 116 -d {gpu} --store_csv -chk training_199 -legacy_structure\")\n",
    "    os.system(f\"nnUNet_evaluate2 {res} {trainer} -trained_on 111 112 113 115 116 -f 0 -use_model 111 112 113 -evaluate_on 111 112 113 115 116 -d {gpu} --store_csv -chk training_199 -legacy_structure\")\n",
    "    os.system(f\"nnUNet_evaluate2 {res} {trainer} -trained_on 111 112 113 115 116 -f 0 -use_model 111 112 113 115 -evaluate_on 111 112 113 115 116 -d {gpu} --store_csv -chk training_199 -legacy_structure\")\n",
    "    os.system(f\"nnUNet_evaluate2 {res} {trainer} -trained_on 111 112 113 115 116 -f 0 -use_model 111 112 113 115 116 -evaluate_on 111 112 113 115 116 -d {gpu} --store_csv -chk training_199 -legacy_structure\")\n",
    "\n"
   ]
  },
  {
   "cell_type": "markdown",
   "metadata": {},
   "source": [
    "In the following block, we will run the evaluations of the segmentation models used in our paper."
   ]
  },
  {
   "cell_type": "code",
   "execution_count": null,
   "metadata": {},
   "outputs": [],
   "source": [
    "gpu = \"0\"\n",
    "eval_hippocampus(\"nnUNetTrainerSequential\", gpu)\n",
    "eval_hippocampus(\"nnUNetTrainerEWC\", gpu)\n",
    "eval_hippocampus(\"nnUNetTrainerMiB\", gpu)\n",
    "eval_hippocampus(\"nnUNetTrainerVAERehearsalNoSkipsLarge\", gpu)\n",
    "eval_hippocampus(\"nnUNetTrainerVAERehearsalNoSkipsConditionOnBoth\", gpu)\n",
    "\n",
    "\n",
    "eval_prostate(\"nnUNetTrainerSequential\", gpu)\n",
    "eval_prostate(\"nnUNetTrainerEWC\", gpu)\n",
    "eval_prostate(\"nnUNetTrainerMiB\", gpu)\n",
    "eval_prostate(\"nnUNetTrainerVAERehearsalNoSkipsLarge\", gpu)\n",
    "eval_prostate(\"nnUNetTrainerVAERehearsalNoSkipsConditionOnBoth\", gpu)"
   ]
  },
  {
   "cell_type": "markdown",
   "metadata": {},
   "source": [
    "## Evaluation of OoD Methods"
   ]
  },
  {
   "cell_type": "code",
   "execution_count": null,
   "metadata": {},
   "outputs": [],
   "source": [
    "def eval_hippocampus_aug(trainer: str, gpu: str, ood_method: str):\n",
    "    os.system(f\"nnUNet_evaluate2 2d {trainer} -trained_on 197 198 199 -f 0 -use_model 197 -evaluate_on 197 198 199 400 401 402 --store_csv -d {gpu}\")\n",
    "    os.system(f\"nnUNet_ood_detection 2d {trainer} -trained_on 197 198 199 -f 0 -use_model 197 -evaluate_on 197 198 199 400 401 402 --store_csv --method {ood_method} -d {gpu}\")\n",
    "\n",
    "    os.system(f\"nnUNet_evaluate2 2d {trainer} -trained_on 197 198 199 -f 0 -use_model 197 198 -evaluate_on 197 198 199 400 401 402 --store_csv -d {gpu}\")\n",
    "    os.system(f\"nnUNet_ood_detection 2d {trainer} -trained_on 197 198 199 -f 0 -use_model 197 198 -evaluate_on 197 198 199 400 401 402 --store_csv --method {ood_method} -d {gpu}\")\n",
    "\n",
    "\n",
    "def eval_prostate_aug(trainer: str, gpu: str, ood_method: str):\n",
    "    os.system(f\"nnUNet_evaluate2 2d {trainer} -trained_on 111 112 113 115 116 -f 0 -use_model 111 -evaluate_on 111 112 113 115 116 403 404 405 406 407 --store_csv -d {gpu}\")\n",
    "    os.system(f\"nnUNet_ood_detection 2d {trainer} -trained_on 111 112 113 115 116 -f 0 -use_model 111 -evaluate_on 111 112 113 115 116 403 404 405 406 407 --store_csv --method {ood_method} -d {gpu}\")\n",
    "\n",
    "    os.system(f\"nnUNet_evaluate2 2d {trainer} -trained_on 111 112 113 115 116 -f 0 -use_model 111 112 -evaluate_on 111 112 113 115 116 403 404 405 406 407 --store_csv -d {gpu}\")\n",
    "    os.system(f\"nnUNet_ood_detection 2d {trainer} -trained_on 111 112 113 115 116 -f 0 -use_model 111 112 -evaluate_on 111 112 113 115 116 403 404 405 406 407 --store_csv --method {ood_method} -d {gpu}\")\n",
    "\n",
    "    os.system(f\"nnUNet_evaluate2 2d {trainer} -trained_on 111 112 113 115 116 -f 0 -use_model 111 112 113 -evaluate_on 111 112 113 115 116 403 404 405 406 407 --store_csv -d {gpu}\")\n",
    "    os.system(f\"nnUNet_ood_detection 2d {trainer} -trained_on 111 112 113 115 116 -f 0 -use_model 111 112 113 -evaluate_on 111 112 113 115 116 403 404 405 406 407 --store_csv --method {ood_method} -d {gpu}\")\n",
    "\n",
    "    os.system(f\"nnUNet_evaluate2 2d {trainer} -trained_on 111 112 113 115 116 -f 0 -use_model 111 112 113 115 -evaluate_on 111 112 113 115 116 403 404 405 406 407 --store_csv -d {gpu}\")\n",
    "    os.system(f\"nnUNet_ood_detection 2d {trainer} -trained_on 111 112 113 115 116 -f 0 -use_model 111 112 113 115 -evaluate_on 111 112 113 115 116 403 404 405 406 407 --store_csv --method {ood_method} -d {gpu}\")"
   ]
  },
  {
   "cell_type": "code",
   "execution_count": null,
   "metadata": {},
   "outputs": [],
   "source": [
    "gpu = \"0 1\"\n",
    "\n",
    "trainers_and_ood_methods = [(\"nnUNetTrainerSequential\", \"uncertainty\"), # uncertainty is softmax\n",
    "                            (\"nnUNetTrainerEWC\", \"uncertainty\"),\n",
    "                            (\"nnUNetTrainerMiB\", \"uncertainty\"),\n",
    "\n",
    "                            (\"nnUNetTrainerSegDist\", \"segmentation_distortion_normalized\")\n",
    "\n",
    "                            (\"nnUNetTrainerVAERehearsalNoSkipsLarge\", \"vae_reconstruction\"),\n",
    "                            (\"nnUNetTrainerVAERehearsalNoSkipsConditionOnBoth\", \"vae_reconstruction\"),\n",
    "                            (\"nnUNetTrainerVAERehearsalNoSkipsConditionOnBoth\", \"vae_mahalanobis\")]\n",
    "\n",
    "for trainer, ood_method in trainers_and_ood_methods:\n",
    "    eval_prostate_aug(trainer, gpu, ood_method)\n",
    "    eval_hippocampus_aug(trainer, gpu, ood_method)"
   ]
  }
 ],
 "metadata": {
  "kernelspec": {
   "display_name": "CLenv3",
   "language": "python",
   "name": "python3"
  },
  "language_info": {
   "name": "python",
   "version": "3.9.18"
  }
 },
 "nbformat": 4,
 "nbformat_minor": 2
}
